{
 "cells": [
  {
   "cell_type": "code",
   "execution_count": 83,
   "metadata": {},
   "outputs": [],
   "source": [
    "import pandas as pd \n",
    "import numpy as np \n",
    "import matplotlib.pyplot as plt\n",
    "import seaborn as sns\n",
    "\n",
    "from sklearn.linear_model import LogisticRegression\n",
    "from xgboost import XGBClassifier\n",
    "from sklearn.ensemble import RandomForestClassifier\n",
    "from sklearn.metrics import accuracy_score, f1_score, precision_score, recall_score\n",
    "from sklearn.metrics import confusion_matrix, roc_auc_score, roc_curve, classification_report, precision_recall_curve\n",
    "from sklearn.model_selection import train_test_split, cross_val_score, StratifiedKFold, GridSearchCV, RandomizedSearchCV\n",
    "\n",
    "from collections import Counter\n",
    "\n",
    "import warnings\n",
    "warnings.filterwarnings('ignore')"
   ]
  },
  {
   "cell_type": "code",
   "execution_count": 55,
   "metadata": {},
   "outputs": [
    {
     "data": {
      "text/plain": [
       "(28382, 21)"
      ]
     },
     "execution_count": 55,
     "metadata": {},
     "output_type": "execute_result"
    }
   ],
   "source": [
    "df = pd.read_csv(\"churn_prediction.csv\")\n",
    "df.shape"
   ]
  },
  {
   "cell_type": "code",
   "execution_count": 56,
   "metadata": {},
   "outputs": [
    {
     "data": {
      "text/plain": [
       "churn\n",
       "0    23122\n",
       "1     5260\n",
       "Name: count, dtype: int64"
      ]
     },
     "execution_count": 56,
     "metadata": {},
     "output_type": "execute_result"
    }
   ],
   "source": [
    "df['churn'].value_counts()"
   ]
  },
  {
   "cell_type": "markdown",
   "metadata": {},
   "source": [
    "## Data Preprocessing"
   ]
  },
  {
   "cell_type": "code",
   "execution_count": 57,
   "metadata": {},
   "outputs": [
    {
     "data": {
      "text/plain": [
       "customer_id                          0\n",
       "vintage                              0\n",
       "age                                  0\n",
       "gender                             525\n",
       "dependents                        2463\n",
       "occupation                          80\n",
       "city                               803\n",
       "customer_nw_category                 0\n",
       "branch_code                          0\n",
       "current_balance                      0\n",
       "previous_month_end_balance           0\n",
       "average_monthly_balance_prevQ        0\n",
       "average_monthly_balance_prevQ2       0\n",
       "current_month_credit                 0\n",
       "previous_month_credit                0\n",
       "current_month_debit                  0\n",
       "previous_month_debit                 0\n",
       "current_month_balance                0\n",
       "previous_month_balance               0\n",
       "churn                                0\n",
       "last_transaction                     0\n",
       "dtype: int64"
      ]
     },
     "execution_count": 57,
     "metadata": {},
     "output_type": "execute_result"
    }
   ],
   "source": [
    "df.isnull().sum()"
   ]
  },
  {
   "cell_type": "markdown",
   "metadata": {},
   "source": [
    "### `a) Missing Value Treatment`"
   ]
  },
  {
   "cell_type": "code",
   "execution_count": 58,
   "metadata": {},
   "outputs": [],
   "source": [
    "#Convert Gender\n",
    "dict_gender = {'Male': 1, 'Female':0}\n",
    "df.replace({'gender': dict_gender}, inplace = True)\n",
    "\n",
    "# Replace with -1 for missing gender\n",
    "df['gender'] = df['gender'].fillna(-1)\n",
    "\n",
    "# Replacing with max. occurence values\n",
    "df['dependents'] = df['dependents'].fillna(0)\n",
    "df['occupation'] = df['occupation'].fillna('self_employed')\n",
    "df['city'] = df['city'].fillna(1020)"
   ]
  },
  {
   "cell_type": "markdown",
   "metadata": {},
   "source": [
    "### `b) Dummy variables`"
   ]
  },
  {
   "cell_type": "code",
   "execution_count": 59,
   "metadata": {},
   "outputs": [],
   "source": [
    "# Convert occupation to one hot encoded features\n",
    "df = pd.concat([df,pd.get_dummies(df['occupation'],prefix = str('occupation'),prefix_sep='_')],axis = 1)"
   ]
  },
  {
   "cell_type": "code",
   "execution_count": 60,
   "metadata": {},
   "outputs": [
    {
     "data": {
      "text/html": [
       "<div>\n",
       "<style scoped>\n",
       "    .dataframe tbody tr th:only-of-type {\n",
       "        vertical-align: middle;\n",
       "    }\n",
       "\n",
       "    .dataframe tbody tr th {\n",
       "        vertical-align: top;\n",
       "    }\n",
       "\n",
       "    .dataframe thead th {\n",
       "        text-align: right;\n",
       "    }\n",
       "</style>\n",
       "<table border=\"1\" class=\"dataframe\">\n",
       "  <thead>\n",
       "    <tr style=\"text-align: right;\">\n",
       "      <th></th>\n",
       "      <th>customer_id</th>\n",
       "      <th>vintage</th>\n",
       "      <th>age</th>\n",
       "      <th>gender</th>\n",
       "      <th>dependents</th>\n",
       "      <th>occupation</th>\n",
       "      <th>city</th>\n",
       "      <th>customer_nw_category</th>\n",
       "      <th>branch_code</th>\n",
       "      <th>current_balance</th>\n",
       "      <th>...</th>\n",
       "      <th>previous_month_debit</th>\n",
       "      <th>current_month_balance</th>\n",
       "      <th>previous_month_balance</th>\n",
       "      <th>churn</th>\n",
       "      <th>last_transaction</th>\n",
       "      <th>occupation_company</th>\n",
       "      <th>occupation_retired</th>\n",
       "      <th>occupation_salaried</th>\n",
       "      <th>occupation_self_employed</th>\n",
       "      <th>occupation_student</th>\n",
       "    </tr>\n",
       "  </thead>\n",
       "  <tbody>\n",
       "    <tr>\n",
       "      <th>0</th>\n",
       "      <td>1</td>\n",
       "      <td>2101</td>\n",
       "      <td>66</td>\n",
       "      <td>1.0</td>\n",
       "      <td>0.0</td>\n",
       "      <td>self_employed</td>\n",
       "      <td>187.0</td>\n",
       "      <td>2</td>\n",
       "      <td>755</td>\n",
       "      <td>1458.71</td>\n",
       "      <td>...</td>\n",
       "      <td>0.20</td>\n",
       "      <td>1458.71</td>\n",
       "      <td>1458.71</td>\n",
       "      <td>0</td>\n",
       "      <td>2019-05-21</td>\n",
       "      <td>False</td>\n",
       "      <td>False</td>\n",
       "      <td>False</td>\n",
       "      <td>True</td>\n",
       "      <td>False</td>\n",
       "    </tr>\n",
       "    <tr>\n",
       "      <th>1</th>\n",
       "      <td>2</td>\n",
       "      <td>2348</td>\n",
       "      <td>35</td>\n",
       "      <td>1.0</td>\n",
       "      <td>0.0</td>\n",
       "      <td>self_employed</td>\n",
       "      <td>1020.0</td>\n",
       "      <td>2</td>\n",
       "      <td>3214</td>\n",
       "      <td>5390.37</td>\n",
       "      <td>...</td>\n",
       "      <td>100.56</td>\n",
       "      <td>6496.78</td>\n",
       "      <td>8787.61</td>\n",
       "      <td>0</td>\n",
       "      <td>2019-11-01</td>\n",
       "      <td>False</td>\n",
       "      <td>False</td>\n",
       "      <td>False</td>\n",
       "      <td>True</td>\n",
       "      <td>False</td>\n",
       "    </tr>\n",
       "    <tr>\n",
       "      <th>2</th>\n",
       "      <td>4</td>\n",
       "      <td>2194</td>\n",
       "      <td>31</td>\n",
       "      <td>1.0</td>\n",
       "      <td>0.0</td>\n",
       "      <td>salaried</td>\n",
       "      <td>146.0</td>\n",
       "      <td>2</td>\n",
       "      <td>41</td>\n",
       "      <td>3913.16</td>\n",
       "      <td>...</td>\n",
       "      <td>259.23</td>\n",
       "      <td>5006.28</td>\n",
       "      <td>5070.14</td>\n",
       "      <td>0</td>\n",
       "      <td>NaT</td>\n",
       "      <td>False</td>\n",
       "      <td>False</td>\n",
       "      <td>True</td>\n",
       "      <td>False</td>\n",
       "      <td>False</td>\n",
       "    </tr>\n",
       "    <tr>\n",
       "      <th>3</th>\n",
       "      <td>5</td>\n",
       "      <td>2329</td>\n",
       "      <td>90</td>\n",
       "      <td>-1.0</td>\n",
       "      <td>0.0</td>\n",
       "      <td>self_employed</td>\n",
       "      <td>1020.0</td>\n",
       "      <td>2</td>\n",
       "      <td>582</td>\n",
       "      <td>2291.91</td>\n",
       "      <td>...</td>\n",
       "      <td>2143.33</td>\n",
       "      <td>2291.91</td>\n",
       "      <td>1669.79</td>\n",
       "      <td>1</td>\n",
       "      <td>2019-08-06</td>\n",
       "      <td>False</td>\n",
       "      <td>False</td>\n",
       "      <td>False</td>\n",
       "      <td>True</td>\n",
       "      <td>False</td>\n",
       "    </tr>\n",
       "    <tr>\n",
       "      <th>4</th>\n",
       "      <td>6</td>\n",
       "      <td>1579</td>\n",
       "      <td>42</td>\n",
       "      <td>1.0</td>\n",
       "      <td>2.0</td>\n",
       "      <td>self_employed</td>\n",
       "      <td>1494.0</td>\n",
       "      <td>3</td>\n",
       "      <td>388</td>\n",
       "      <td>927.72</td>\n",
       "      <td>...</td>\n",
       "      <td>1538.06</td>\n",
       "      <td>1157.15</td>\n",
       "      <td>1677.16</td>\n",
       "      <td>1</td>\n",
       "      <td>2019-11-03</td>\n",
       "      <td>False</td>\n",
       "      <td>False</td>\n",
       "      <td>False</td>\n",
       "      <td>True</td>\n",
       "      <td>False</td>\n",
       "    </tr>\n",
       "  </tbody>\n",
       "</table>\n",
       "<p>5 rows × 26 columns</p>\n",
       "</div>"
      ],
      "text/plain": [
       "   customer_id  vintage  age  gender  dependents     occupation    city  \\\n",
       "0            1     2101   66     1.0         0.0  self_employed   187.0   \n",
       "1            2     2348   35     1.0         0.0  self_employed  1020.0   \n",
       "2            4     2194   31     1.0         0.0       salaried   146.0   \n",
       "3            5     2329   90    -1.0         0.0  self_employed  1020.0   \n",
       "4            6     1579   42     1.0         2.0  self_employed  1494.0   \n",
       "\n",
       "   customer_nw_category  branch_code  current_balance  ...  \\\n",
       "0                     2          755          1458.71  ...   \n",
       "1                     2         3214          5390.37  ...   \n",
       "2                     2           41          3913.16  ...   \n",
       "3                     2          582          2291.91  ...   \n",
       "4                     3          388           927.72  ...   \n",
       "\n",
       "   previous_month_debit  current_month_balance  previous_month_balance  churn  \\\n",
       "0                  0.20                1458.71                 1458.71      0   \n",
       "1                100.56                6496.78                 8787.61      0   \n",
       "2                259.23                5006.28                 5070.14      0   \n",
       "3               2143.33                2291.91                 1669.79      1   \n",
       "4               1538.06                1157.15                 1677.16      1   \n",
       "\n",
       "   last_transaction  occupation_company  occupation_retired  \\\n",
       "0        2019-05-21               False               False   \n",
       "1        2019-11-01               False               False   \n",
       "2               NaT               False               False   \n",
       "3        2019-08-06               False               False   \n",
       "4        2019-11-03               False               False   \n",
       "\n",
       "   occupation_salaried  occupation_self_employed  occupation_student  \n",
       "0                False                      True               False  \n",
       "1                False                      True               False  \n",
       "2                 True                     False               False  \n",
       "3                False                      True               False  \n",
       "4                False                      True               False  \n",
       "\n",
       "[5 rows x 26 columns]"
      ]
     },
     "execution_count": 60,
     "metadata": {},
     "output_type": "execute_result"
    }
   ],
   "source": [
    "df.head()"
   ]
  },
  {
   "cell_type": "markdown",
   "metadata": {},
   "source": [
    "# Train and Test Split"
   ]
  },
  {
   "cell_type": "code",
   "execution_count": 61,
   "metadata": {},
   "outputs": [],
   "source": [
    "#x = df.drop('Attrition', axis=1)\n",
    "x = df.drop(['churn','customer_id', 'occupation', 'last_transaction'], axis=1)\n",
    "y = df['churn']\n",
    "# Splitting the data into train and test\n",
    "X_train,X_test,y_train,y_test=train_test_split(x, y, train_size=0.8, stratify = y, random_state=100)"
   ]
  },
  {
   "cell_type": "code",
   "execution_count": 62,
   "metadata": {},
   "outputs": [
    {
     "data": {
      "text/plain": [
       "((22705,), (5677,))"
      ]
     },
     "execution_count": 62,
     "metadata": {},
     "output_type": "execute_result"
    }
   ],
   "source": [
    "y_train.shape, y_test.shape"
   ]
  },
  {
   "cell_type": "code",
   "execution_count": 63,
   "metadata": {},
   "outputs": [
    {
     "data": {
      "text/plain": [
       "churn\n",
       "0    0.814666\n",
       "1    0.185334\n",
       "Name: count, dtype: float64"
      ]
     },
     "execution_count": 63,
     "metadata": {},
     "output_type": "execute_result"
    }
   ],
   "source": [
    "y_train.value_counts()/len(y_train)"
   ]
  },
  {
   "cell_type": "code",
   "execution_count": 64,
   "metadata": {},
   "outputs": [
    {
     "data": {
      "text/plain": [
       "churn\n",
       "0    0.814691\n",
       "1    0.185309\n",
       "Name: count, dtype: float64"
      ]
     },
     "execution_count": 64,
     "metadata": {},
     "output_type": "execute_result"
    }
   ],
   "source": [
    "y_test.value_counts()/len(y_test)"
   ]
  },
  {
   "cell_type": "code",
   "execution_count": 65,
   "metadata": {},
   "outputs": [],
   "source": [
    "from sklearn.preprocessing import StandardScaler\n",
    "Scaler_X = StandardScaler()\n",
    "X_train = Scaler_X.fit_transform(X_train)\n",
    "X_test = Scaler_X.transform(X_test)"
   ]
  },
  {
   "cell_type": "markdown",
   "metadata": {},
   "source": [
    "# Handling class imbalance:"
   ]
  },
  {
   "cell_type": "markdown",
   "metadata": {},
   "source": [
    "## A) Undersampling:"
   ]
  },
  {
   "cell_type": "markdown",
   "metadata": {},
   "source": [
    "### 1. Random Undersampling (RUS):"
   ]
  },
  {
   "cell_type": "code",
   "execution_count": 79,
   "metadata": {},
   "outputs": [
    {
     "name": "stdout",
     "output_type": "stream",
     "text": [
      "Before Counter({0: 18497, 1: 4208})\n",
      "After Counter({0: 4208, 1: 4208})\n"
     ]
    }
   ],
   "source": [
    "from imblearn.under_sampling import RandomUnderSampler\n",
    "\n",
    "counter = Counter(y_train)\n",
    "print('Before',counter)\n",
    "\n",
    "# Apply RUS\n",
    "rus = RandomUnderSampler(random_state=42)\n",
    "X_train_rus, y_train_rus = rus.fit_resample(X_train, y_train)\n",
    "\n",
    "counter = Counter(y_train_rus)\n",
    "print('After',counter)"
   ]
  },
  {
   "cell_type": "markdown",
   "metadata": {},
   "source": [
    " "
   ]
  },
  {
   "cell_type": "markdown",
   "metadata": {},
   "source": [
    "### 2. Tomek Links:"
   ]
  },
  {
   "cell_type": "code",
   "execution_count": 67,
   "metadata": {},
   "outputs": [
    {
     "name": "stdout",
     "output_type": "stream",
     "text": [
      "Before Counter({0: 18497, 1: 4208})\n",
      "After Counter({0: 17142, 1: 4208})\n"
     ]
    }
   ],
   "source": [
    "from imblearn.under_sampling import TomekLinks\n",
    "\n",
    "counter = Counter(y_train)\n",
    "print('Before',counter)\n",
    "\n",
    "# Apply Tomek Links\n",
    "tl = TomekLinks(sampling_strategy='majority')\n",
    "X_train_tl, y_train_tl = tl.fit_resample(X_train, y_train)\n",
    "\n",
    "\n",
    "counter = Counter(y_train_tl)\n",
    "print('After',counter)"
   ]
  },
  {
   "cell_type": "markdown",
   "metadata": {},
   "source": [
    "### 3. Edited Nearest Neighbours (ENN):"
   ]
  },
  {
   "cell_type": "code",
   "execution_count": 99,
   "metadata": {},
   "outputs": [
    {
     "name": "stdout",
     "output_type": "stream",
     "text": [
      "Before Counter({0: 18497, 1: 4208})\n",
      "After Counter({0: 11271, 1: 4208})\n"
     ]
    }
   ],
   "source": [
    "from imblearn.under_sampling import EditedNearestNeighbours\n",
    "\n",
    "counter = Counter(y_train)\n",
    "print('Before',counter)\n",
    "\n",
    "# Apply ENN\n",
    "enn = EditedNearestNeighbours(sampling_strategy='majority', n_neighbors=3)\n",
    "X_train_enn, y_train_enn = enn.fit_resample(X_train, y_train)\n",
    "\n",
    "\n",
    "counter = Counter(y_train_enn)\n",
    "print('After',counter)"
   ]
  },
  {
   "cell_type": "markdown",
   "metadata": {},
   "source": [
    "### 4. CNN:"
   ]
  },
  {
   "cell_type": "code",
   "execution_count": 78,
   "metadata": {},
   "outputs": [
    {
     "name": "stdout",
     "output_type": "stream",
     "text": [
      "Before Counter({0: 18497, 1: 4208})\n",
      "After Counter({0: 6186, 1: 4208})\n"
     ]
    }
   ],
   "source": [
    "from imblearn.under_sampling import CondensedNearestNeighbour\n",
    "\n",
    "counter = Counter(y_train)\n",
    "print('Before',counter)\n",
    "\n",
    "cnn = CondensedNearestNeighbour(n_neighbors=1)\n",
    "X_train_cnn, y_train_cnn = cnn.fit_resample(X_train, y_train)\n",
    "\n",
    "print(\"After\", Counter(y_train_cnn))"
   ]
  },
  {
   "cell_type": "markdown",
   "metadata": {},
   "source": [
    "### 5. One-Sided Selection (OSS):"
   ]
  },
  {
   "cell_type": "code",
   "execution_count": 70,
   "metadata": {},
   "outputs": [
    {
     "name": "stdout",
     "output_type": "stream",
     "text": [
      "Before Counter({0: 18497, 1: 4208})\n",
      "After Counter({0: 17142, 1: 4208})\n"
     ]
    }
   ],
   "source": [
    "from imblearn.under_sampling import OneSidedSelection\n",
    "\n",
    "counter = Counter(y_train)\n",
    "print('Before',counter)\n",
    "\n",
    "# Apply OSS\n",
    "oss = OneSidedSelection(random_state=42)\n",
    "X_train_oss, y_train_oss = oss.fit_resample(X_train, y_train)\n",
    "\n",
    "counter = Counter(y_train_oss)\n",
    "print('After',counter)"
   ]
  },
  {
   "cell_type": "markdown",
   "metadata": {},
   "source": [
    "### 6. Neighbourhood Cleaning Rule (NCL):"
   ]
  },
  {
   "cell_type": "code",
   "execution_count": 71,
   "metadata": {},
   "outputs": [
    {
     "name": "stdout",
     "output_type": "stream",
     "text": [
      "Before Counter({0: 18497, 1: 4208})\n",
      "After Counter({0: 11407, 1: 4208})\n"
     ]
    }
   ],
   "source": [
    "from imblearn.under_sampling import NeighbourhoodCleaningRule\n",
    "\n",
    "counter = Counter(y_train)\n",
    "print('Before', counter)\n",
    "\n",
    "# Apply NCL\n",
    "ncl = NeighbourhoodCleaningRule(n_neighbors=3)\n",
    "X_train_ncl, y_train_ncl = ncl.fit_resample(X_train, y_train)\n",
    "\n",
    "counter = Counter(y_train_ncl)\n",
    "print('After', counter)"
   ]
  },
  {
   "cell_type": "markdown",
   "metadata": {},
   "source": [
    "## B) Oversampling:"
   ]
  },
  {
   "cell_type": "markdown",
   "metadata": {},
   "source": [
    "### 1. SMOTE:"
   ]
  },
  {
   "cell_type": "code",
   "execution_count": 72,
   "metadata": {},
   "outputs": [
    {
     "name": "stdout",
     "output_type": "stream",
     "text": [
      "Before Counter({0: 18497, 1: 4208})\n",
      "After Counter({0: 18497, 1: 18497})\n"
     ]
    }
   ],
   "source": [
    "from imblearn.over_sampling import SMOTE\n",
    "\n",
    "counter = Counter(y_train)\n",
    "print('Before', counter)\n",
    "\n",
    "# Apply SMOTE\n",
    "sm = SMOTE(random_state=42)\n",
    "X_train_sm, y_train_sm = sm.fit_resample(X_train, y_train)\n",
    "\n",
    "counter = Counter(y_train_sm)\n",
    "print('After', counter)"
   ]
  },
  {
   "cell_type": "markdown",
   "metadata": {},
   "source": [
    "### 2. SMOTE-NC ((Nominal Continuous):"
   ]
  },
  {
   "cell_type": "code",
   "execution_count": null,
   "metadata": {},
   "outputs": [],
   "source": [
    "from imblearn.over_sampling import SMOTENC\n",
    "from sklearn.preprocessing import LabelEncoder\n",
    "\n",
    "counter = Counter(y_train)\n",
    "print('Before', counter)\n",
    "\n",
    "# Specify categorical feature indices\n",
    "categorical_features = [2, 4]  # Example indices\n",
    "\n",
    "# Apply SMOTE-NC\n",
    "smnc = SMOTENC(categorical_features=categorical_features, random_state=42)\n",
    "X_train_smnc, y_train_smnc = smnc.fit_resample(X_train, y_train)\n",
    "\n",
    "counter = Counter(y_train_smnc)\n",
    "print('After:', counter)"
   ]
  },
  {
   "cell_type": "markdown",
   "metadata": {},
   "source": [
    "* `The SMOTE-NC (Nominal Continuous) technique is not applicable in this case, as the categorical variables have already been transformed using one-hot encoding.`"
   ]
  },
  {
   "cell_type": "markdown",
   "metadata": {},
   "source": [
    "### 3. Borderline-SMOTE:"
   ]
  },
  {
   "cell_type": "code",
   "execution_count": 73,
   "metadata": {},
   "outputs": [
    {
     "name": "stdout",
     "output_type": "stream",
     "text": [
      "Before Counter({0: 18497, 1: 4208})\n",
      "After: Counter({0: 18497, 1: 18497})\n"
     ]
    }
   ],
   "source": [
    "from imblearn.over_sampling import BorderlineSMOTE\n",
    "\n",
    "counter = Counter(y_train)\n",
    "print('Before', counter)\n",
    "\n",
    "# Apply bsm\n",
    "bsm = BorderlineSMOTE(kind='borderline-1', random_state=42)\n",
    "X_train_bsm, y_train_bsm = bsm.fit_resample(X_train, y_train)\n",
    "\n",
    "counter = Counter(y_train_bsm)\n",
    "print('After:', counter)"
   ]
  },
  {
   "cell_type": "markdown",
   "metadata": {},
   "source": [
    "### 4. ADASYN Technique"
   ]
  },
  {
   "cell_type": "code",
   "execution_count": 74,
   "metadata": {},
   "outputs": [
    {
     "name": "stdout",
     "output_type": "stream",
     "text": [
      "Before Counter({0: 18497, 1: 4208})\n",
      "After Counter({0: 18497, 1: 17388})\n"
     ]
    }
   ],
   "source": [
    "from imblearn.over_sampling import ADASYN\n",
    "\n",
    "counter = Counter(y_train)\n",
    "print('Before',counter)\n",
    "\n",
    "# oversampling the train dataset using ADASYN\n",
    "ada = ADASYN(random_state=42)\n",
    "X_train_ada, y_train_ada = ada.fit_resample(X_train, y_train)\n",
    "\n",
    "counter = Counter(y_train_ada)\n",
    "print('After',counter)"
   ]
  },
  {
   "cell_type": "markdown",
   "metadata": {},
   "source": [
    " "
   ]
  },
  {
   "cell_type": "markdown",
   "metadata": {},
   "source": [
    "## C) Hybrid Techniques:"
   ]
  },
  {
   "cell_type": "markdown",
   "metadata": {},
   "source": [
    "### 1. SMOTE + Tomek Links:"
   ]
  },
  {
   "cell_type": "code",
   "execution_count": 36,
   "metadata": {},
   "outputs": [
    {
     "name": "stdout",
     "output_type": "stream",
     "text": [
      "Before Counter({0: 18497, 1: 4208})\n",
      "After Counter({0: 18090, 1: 18090})\n"
     ]
    }
   ],
   "source": [
    "from imblearn.combine import SMOTETomek\n",
    "\n",
    "counter = Counter(y_train)\n",
    "print('Before',counter)\n",
    "\n",
    "# oversampling the train dataset using SMOTE + Tomek\n",
    "smtom = SMOTETomek(random_state=139)\n",
    "X_train_smtom, y_train_smtom = smtom.fit_resample(X_train, y_train)\n",
    "\n",
    "counter = Counter(y_train_smtom)\n",
    "print('After',counter)"
   ]
  },
  {
   "cell_type": "markdown",
   "metadata": {},
   "source": [
    "### 2. SMOTE + ENN:"
   ]
  },
  {
   "cell_type": "code",
   "execution_count": 37,
   "metadata": {},
   "outputs": [
    {
     "name": "stdout",
     "output_type": "stream",
     "text": [
      "Before Counter({0: 18497, 1: 4208})\n",
      "After Counter({1: 14689, 0: 8976})\n"
     ]
    }
   ],
   "source": [
    "from imblearn.combine import SMOTEENN\n",
    "\n",
    "counter = Counter(y_train)\n",
    "print('Before',counter)\n",
    "\n",
    "# oversampling the train dataset using SMOTE + ENN\n",
    "smenn = SMOTEENN()\n",
    "X_train_smenn, y_train_smenn = smenn.fit_resample(X_train, y_train)\n",
    "\n",
    "counter = Counter(y_train_smenn)\n",
    "print('After',counter)"
   ]
  },
  {
   "cell_type": "markdown",
   "metadata": {},
   "source": [
    "# Model Building - Imbalanced data"
   ]
  },
  {
   "cell_type": "code",
   "execution_count": 100,
   "metadata": {},
   "outputs": [],
   "source": [
    "from sklearn.metrics import accuracy_score, precision_score, recall_score, f1_score, roc_auc_score\n",
    "import pandas as pd\n",
    "import numpy as np\n",
    "from collections import Counter\n",
    "\n",
    "def run_models_on_resampled_sets(dataset_dict, X_test, y_test):\n",
    "\n",
    "    results = []\n",
    "\n",
    "    # Define models\n",
    "    models = {\n",
    "        \"Logistic Regression\": LogisticRegression(max_iter=1000, random_state=42),\n",
    "        \"Random Forest\": RandomForestClassifier(random_state=42),\n",
    "        \"XGBoost\": XGBClassifier(use_label_encoder=False, eval_metric='logloss', random_state=42)\n",
    "    }\n",
    "\n",
    "    for model_name, model in models.items():\n",
    "        for method, (X_train_res, y_train_res) in dataset_dict.items():\n",
    "            # Train model\n",
    "            model.fit(X_train_res, y_train_res)\n",
    "            y_pred = model.predict(X_test)\n",
    "            y_prob = model.predict_proba(X_test)[:, 1] if hasattr(model, \"predict_proba\") else np.zeros_like(y_pred)\n",
    "\n",
    "            # Compute metrics\n",
    "            acc = accuracy_score(y_test, y_pred)\n",
    "            prec = precision_score(y_test, y_pred, zero_division=0)\n",
    "            rec = recall_score(y_test, y_pred, zero_division=0)\n",
    "            f1 = f1_score(y_test, y_pred, zero_division=0)\n",
    "            roc = roc_auc_score(y_test, y_prob) if len(np.unique(y_test)) > 1 else np.nan\n",
    "\n",
    "            results.append({\n",
    "                \"Model\": model_name,\n",
    "                \"Resampling\": method,\n",
    "                \"Accuracy\": acc,\n",
    "                \"Precision\": prec,\n",
    "                \"Recall\": rec,\n",
    "                \"F1-score\": f1,\n",
    "                \"ROC-AUC\": roc,\n",
    "                \"Train Size\": Counter(y_train_res)\n",
    "            })\n",
    "\n",
    "    return pd.DataFrame(results)"
   ]
  },
  {
   "cell_type": "code",
   "execution_count": 101,
   "metadata": {},
   "outputs": [],
   "source": [
    "dataset_dict = {\n",
    "    \"Original\": (X_train, y_train),\n",
    "    \"RUS\": (X_train_rus, y_train_rus),\n",
    "    \"Tomek\": (X_train_tl, y_train_tl),\n",
    "    \"ENN\": (X_train_enn, y_train_enn),\n",
    "    \"CNN\": (X_train_cnn, y_train_cnn),\n",
    "    \"OSS\": (X_train_oss, y_train_oss),\n",
    "    \"NCL\": (X_train_ncl, y_train_ncl),\n",
    "    \"SMOTE\": (X_train_sm, y_train_sm),\n",
    "    \"Borderline-SMOTE\": (X_train_bsm, y_train_bsm),\n",
    "    \"ADASYN\": (X_train_ada, y_train_ada),\n",
    "    \"SMOTE + Tomek Links\": (X_train_smtom, y_train_smtom),\n",
    "    \"SMOTE + ENN\": (X_train_smenn, y_train_smenn),\n",
    "}"
   ]
  },
  {
   "cell_type": "code",
   "execution_count": 102,
   "metadata": {},
   "outputs": [],
   "source": [
    "results_df = run_models_on_resampled_sets(dataset_dict, X_test, y_test)"
   ]
  },
  {
   "cell_type": "markdown",
   "metadata": {},
   "source": [
    "## Model Comparision"
   ]
  },
  {
   "cell_type": "code",
   "execution_count": 103,
   "metadata": {},
   "outputs": [
    {
     "data": {
      "text/html": [
       "<div>\n",
       "<style scoped>\n",
       "    .dataframe tbody tr th:only-of-type {\n",
       "        vertical-align: middle;\n",
       "    }\n",
       "\n",
       "    .dataframe tbody tr th {\n",
       "        vertical-align: top;\n",
       "    }\n",
       "\n",
       "    .dataframe thead th {\n",
       "        text-align: right;\n",
       "    }\n",
       "</style>\n",
       "<table border=\"1\" class=\"dataframe\">\n",
       "  <thead>\n",
       "    <tr style=\"text-align: right;\">\n",
       "      <th></th>\n",
       "      <th>Model</th>\n",
       "      <th>Resampling</th>\n",
       "      <th>Accuracy</th>\n",
       "      <th>Precision</th>\n",
       "      <th>Recall</th>\n",
       "      <th>F1-score</th>\n",
       "      <th>ROC-AUC</th>\n",
       "      <th>Train Size</th>\n",
       "    </tr>\n",
       "  </thead>\n",
       "  <tbody>\n",
       "    <tr>\n",
       "      <th>0</th>\n",
       "      <td>Logistic Regression</td>\n",
       "      <td>Original</td>\n",
       "      <td>0.823146</td>\n",
       "      <td>0.750000</td>\n",
       "      <td>0.068441</td>\n",
       "      <td>0.125436</td>\n",
       "      <td>0.771703</td>\n",
       "      <td>{0: 18497, 1: 4208}</td>\n",
       "    </tr>\n",
       "    <tr>\n",
       "      <th>1</th>\n",
       "      <td>Logistic Regression</td>\n",
       "      <td>RUS</td>\n",
       "      <td>0.778580</td>\n",
       "      <td>0.434755</td>\n",
       "      <td>0.649240</td>\n",
       "      <td>0.520778</td>\n",
       "      <td>0.770020</td>\n",
       "      <td>{0: 4208, 1: 4208}</td>\n",
       "    </tr>\n",
       "    <tr>\n",
       "      <th>2</th>\n",
       "      <td>Logistic Regression</td>\n",
       "      <td>Tomek</td>\n",
       "      <td>0.824731</td>\n",
       "      <td>0.761468</td>\n",
       "      <td>0.078897</td>\n",
       "      <td>0.142980</td>\n",
       "      <td>0.770861</td>\n",
       "      <td>{0: 17142, 1: 4208}</td>\n",
       "    </tr>\n",
       "    <tr>\n",
       "      <th>3</th>\n",
       "      <td>Logistic Regression</td>\n",
       "      <td>ENN</td>\n",
       "      <td>0.824379</td>\n",
       "      <td>0.578797</td>\n",
       "      <td>0.192015</td>\n",
       "      <td>0.288365</td>\n",
       "      <td>0.774958</td>\n",
       "      <td>{0: 11271, 1: 4208}</td>\n",
       "    </tr>\n",
       "    <tr>\n",
       "      <th>4</th>\n",
       "      <td>Logistic Regression</td>\n",
       "      <td>CNN</td>\n",
       "      <td>0.835476</td>\n",
       "      <td>0.684375</td>\n",
       "      <td>0.208175</td>\n",
       "      <td>0.319242</td>\n",
       "      <td>0.772916</td>\n",
       "      <td>{0: 6186, 1: 4208}</td>\n",
       "    </tr>\n",
       "    <tr>\n",
       "      <th>5</th>\n",
       "      <td>Logistic Regression</td>\n",
       "      <td>OSS</td>\n",
       "      <td>0.824731</td>\n",
       "      <td>0.761468</td>\n",
       "      <td>0.078897</td>\n",
       "      <td>0.142980</td>\n",
       "      <td>0.770861</td>\n",
       "      <td>{0: 17142, 1: 4208}</td>\n",
       "    </tr>\n",
       "    <tr>\n",
       "      <th>6</th>\n",
       "      <td>Logistic Regression</td>\n",
       "      <td>NCL</td>\n",
       "      <td>0.830016</td>\n",
       "      <td>0.680498</td>\n",
       "      <td>0.155894</td>\n",
       "      <td>0.253674</td>\n",
       "      <td>0.767734</td>\n",
       "      <td>{0: 11407, 1: 4208}</td>\n",
       "    </tr>\n",
       "    <tr>\n",
       "      <th>7</th>\n",
       "      <td>Logistic Regression</td>\n",
       "      <td>SMOTE</td>\n",
       "      <td>0.772943</td>\n",
       "      <td>0.429506</td>\n",
       "      <td>0.686312</td>\n",
       "      <td>0.528357</td>\n",
       "      <td>0.777765</td>\n",
       "      <td>{0: 18497, 1: 18497}</td>\n",
       "    </tr>\n",
       "    <tr>\n",
       "      <th>8</th>\n",
       "      <td>Logistic Regression</td>\n",
       "      <td>Borderline-SMOTE</td>\n",
       "      <td>0.772063</td>\n",
       "      <td>0.427458</td>\n",
       "      <td>0.677757</td>\n",
       "      <td>0.524265</td>\n",
       "      <td>0.776354</td>\n",
       "      <td>{0: 18497, 1: 18497}</td>\n",
       "    </tr>\n",
       "    <tr>\n",
       "      <th>9</th>\n",
       "      <td>Logistic Regression</td>\n",
       "      <td>ADASYN</td>\n",
       "      <td>0.812929</td>\n",
       "      <td>0.496372</td>\n",
       "      <td>0.650190</td>\n",
       "      <td>0.562963</td>\n",
       "      <td>0.779727</td>\n",
       "      <td>{0: 18497, 1: 17388}</td>\n",
       "    </tr>\n",
       "    <tr>\n",
       "      <th>10</th>\n",
       "      <td>Logistic Regression</td>\n",
       "      <td>SMOTE + Tomek Links</td>\n",
       "      <td>0.778228</td>\n",
       "      <td>0.437387</td>\n",
       "      <td>0.687262</td>\n",
       "      <td>0.534566</td>\n",
       "      <td>0.779158</td>\n",
       "      <td>{0: 18090, 1: 18090}</td>\n",
       "    </tr>\n",
       "    <tr>\n",
       "      <th>11</th>\n",
       "      <td>Logistic Regression</td>\n",
       "      <td>SMOTE + ENN</td>\n",
       "      <td>0.548177</td>\n",
       "      <td>0.271381</td>\n",
       "      <td>0.853612</td>\n",
       "      <td>0.411832</td>\n",
       "      <td>0.782430</td>\n",
       "      <td>{0: 8976, 1: 14689}</td>\n",
       "    </tr>\n",
       "    <tr>\n",
       "      <th>12</th>\n",
       "      <td>Random Forest</td>\n",
       "      <td>Original</td>\n",
       "      <td>0.866655</td>\n",
       "      <td>0.727975</td>\n",
       "      <td>0.447719</td>\n",
       "      <td>0.554444</td>\n",
       "      <td>0.830338</td>\n",
       "      <td>{0: 18497, 1: 4208}</td>\n",
       "    </tr>\n",
       "    <tr>\n",
       "      <th>13</th>\n",
       "      <td>Random Forest</td>\n",
       "      <td>RUS</td>\n",
       "      <td>0.790558</td>\n",
       "      <td>0.458660</td>\n",
       "      <td>0.722433</td>\n",
       "      <td>0.561093</td>\n",
       "      <td>0.828086</td>\n",
       "      <td>{0: 4208, 1: 4208}</td>\n",
       "    </tr>\n",
       "    <tr>\n",
       "      <th>14</th>\n",
       "      <td>Random Forest</td>\n",
       "      <td>Tomek</td>\n",
       "      <td>0.868240</td>\n",
       "      <td>0.717765</td>\n",
       "      <td>0.476236</td>\n",
       "      <td>0.572571</td>\n",
       "      <td>0.831140</td>\n",
       "      <td>{0: 17142, 1: 4208}</td>\n",
       "    </tr>\n",
       "    <tr>\n",
       "      <th>15</th>\n",
       "      <td>Random Forest</td>\n",
       "      <td>ENN</td>\n",
       "      <td>0.853268</td>\n",
       "      <td>0.610050</td>\n",
       "      <td>0.576996</td>\n",
       "      <td>0.593063</td>\n",
       "      <td>0.830711</td>\n",
       "      <td>{0: 11271, 1: 4208}</td>\n",
       "    </tr>\n",
       "    <tr>\n",
       "      <th>16</th>\n",
       "      <td>Random Forest</td>\n",
       "      <td>CNN</td>\n",
       "      <td>0.834243</td>\n",
       "      <td>0.545380</td>\n",
       "      <td>0.634030</td>\n",
       "      <td>0.586374</td>\n",
       "      <td>0.830232</td>\n",
       "      <td>{0: 6186, 1: 4208}</td>\n",
       "    </tr>\n",
       "    <tr>\n",
       "      <th>17</th>\n",
       "      <td>Random Forest</td>\n",
       "      <td>OSS</td>\n",
       "      <td>0.866479</td>\n",
       "      <td>0.716176</td>\n",
       "      <td>0.462928</td>\n",
       "      <td>0.562356</td>\n",
       "      <td>0.831229</td>\n",
       "      <td>{0: 17142, 1: 4208}</td>\n",
       "    </tr>\n",
       "    <tr>\n",
       "      <th>18</th>\n",
       "      <td>Random Forest</td>\n",
       "      <td>NCL</td>\n",
       "      <td>0.860314</td>\n",
       "      <td>0.641221</td>\n",
       "      <td>0.558935</td>\n",
       "      <td>0.597257</td>\n",
       "      <td>0.834722</td>\n",
       "      <td>{0: 11407, 1: 4208}</td>\n",
       "    </tr>\n",
       "    <tr>\n",
       "      <th>19</th>\n",
       "      <td>Random Forest</td>\n",
       "      <td>SMOTE</td>\n",
       "      <td>0.809406</td>\n",
       "      <td>0.489209</td>\n",
       "      <td>0.646388</td>\n",
       "      <td>0.556921</td>\n",
       "      <td>0.809346</td>\n",
       "      <td>{0: 18497, 1: 18497}</td>\n",
       "    </tr>\n",
       "    <tr>\n",
       "      <th>20</th>\n",
       "      <td>Random Forest</td>\n",
       "      <td>Borderline-SMOTE</td>\n",
       "      <td>0.805003</td>\n",
       "      <td>0.480483</td>\n",
       "      <td>0.643536</td>\n",
       "      <td>0.550183</td>\n",
       "      <td>0.812214</td>\n",
       "      <td>{0: 18497, 1: 18497}</td>\n",
       "    </tr>\n",
       "    <tr>\n",
       "      <th>21</th>\n",
       "      <td>Random Forest</td>\n",
       "      <td>ADASYN</td>\n",
       "      <td>0.812929</td>\n",
       "      <td>0.496302</td>\n",
       "      <td>0.637833</td>\n",
       "      <td>0.558236</td>\n",
       "      <td>0.811923</td>\n",
       "      <td>{0: 18497, 1: 17388}</td>\n",
       "    </tr>\n",
       "    <tr>\n",
       "      <th>22</th>\n",
       "      <td>Random Forest</td>\n",
       "      <td>SMOTE + Tomek Links</td>\n",
       "      <td>0.810111</td>\n",
       "      <td>0.490620</td>\n",
       "      <td>0.646388</td>\n",
       "      <td>0.557834</td>\n",
       "      <td>0.813865</td>\n",
       "      <td>{0: 18090, 1: 18090}</td>\n",
       "    </tr>\n",
       "    <tr>\n",
       "      <th>23</th>\n",
       "      <td>Random Forest</td>\n",
       "      <td>SMOTE + ENN</td>\n",
       "      <td>0.740532</td>\n",
       "      <td>0.392766</td>\n",
       "      <td>0.732890</td>\n",
       "      <td>0.511443</td>\n",
       "      <td>0.801082</td>\n",
       "      <td>{0: 8976, 1: 14689}</td>\n",
       "    </tr>\n",
       "    <tr>\n",
       "      <th>24</th>\n",
       "      <td>XGBoost</td>\n",
       "      <td>Original</td>\n",
       "      <td>0.861547</td>\n",
       "      <td>0.685237</td>\n",
       "      <td>0.467681</td>\n",
       "      <td>0.555932</td>\n",
       "      <td>0.824229</td>\n",
       "      <td>{0: 18497, 1: 4208}</td>\n",
       "    </tr>\n",
       "    <tr>\n",
       "      <th>25</th>\n",
       "      <td>XGBoost</td>\n",
       "      <td>RUS</td>\n",
       "      <td>0.790735</td>\n",
       "      <td>0.458838</td>\n",
       "      <td>0.720532</td>\n",
       "      <td>0.560651</td>\n",
       "      <td>0.817045</td>\n",
       "      <td>{0: 4208, 1: 4208}</td>\n",
       "    </tr>\n",
       "    <tr>\n",
       "      <th>26</th>\n",
       "      <td>XGBoost</td>\n",
       "      <td>Tomek</td>\n",
       "      <td>0.856791</td>\n",
       "      <td>0.653797</td>\n",
       "      <td>0.482890</td>\n",
       "      <td>0.555495</td>\n",
       "      <td>0.815236</td>\n",
       "      <td>{0: 17142, 1: 4208}</td>\n",
       "    </tr>\n",
       "    <tr>\n",
       "      <th>27</th>\n",
       "      <td>XGBoost</td>\n",
       "      <td>ENN</td>\n",
       "      <td>0.842875</td>\n",
       "      <td>0.574349</td>\n",
       "      <td>0.587452</td>\n",
       "      <td>0.580827</td>\n",
       "      <td>0.820821</td>\n",
       "      <td>{0: 11271, 1: 4208}</td>\n",
       "    </tr>\n",
       "    <tr>\n",
       "      <th>28</th>\n",
       "      <td>XGBoost</td>\n",
       "      <td>CNN</td>\n",
       "      <td>0.819975</td>\n",
       "      <td>0.511346</td>\n",
       "      <td>0.642586</td>\n",
       "      <td>0.569503</td>\n",
       "      <td>0.815055</td>\n",
       "      <td>{0: 6186, 1: 4208}</td>\n",
       "    </tr>\n",
       "    <tr>\n",
       "      <th>29</th>\n",
       "      <td>XGBoost</td>\n",
       "      <td>OSS</td>\n",
       "      <td>0.858024</td>\n",
       "      <td>0.656091</td>\n",
       "      <td>0.491445</td>\n",
       "      <td>0.561957</td>\n",
       "      <td>0.817206</td>\n",
       "      <td>{0: 17142, 1: 4208}</td>\n",
       "    </tr>\n",
       "    <tr>\n",
       "      <th>30</th>\n",
       "      <td>XGBoost</td>\n",
       "      <td>NCL</td>\n",
       "      <td>0.848688</td>\n",
       "      <td>0.594146</td>\n",
       "      <td>0.578897</td>\n",
       "      <td>0.586423</td>\n",
       "      <td>0.816357</td>\n",
       "      <td>{0: 11407, 1: 4208}</td>\n",
       "    </tr>\n",
       "    <tr>\n",
       "      <th>31</th>\n",
       "      <td>XGBoost</td>\n",
       "      <td>SMOTE</td>\n",
       "      <td>0.821032</td>\n",
       "      <td>0.515025</td>\n",
       "      <td>0.586502</td>\n",
       "      <td>0.548444</td>\n",
       "      <td>0.804974</td>\n",
       "      <td>{0: 18497, 1: 18497}</td>\n",
       "    </tr>\n",
       "    <tr>\n",
       "      <th>32</th>\n",
       "      <td>XGBoost</td>\n",
       "      <td>Borderline-SMOTE</td>\n",
       "      <td>0.821032</td>\n",
       "      <td>0.515000</td>\n",
       "      <td>0.587452</td>\n",
       "      <td>0.548845</td>\n",
       "      <td>0.798858</td>\n",
       "      <td>{0: 18497, 1: 18497}</td>\n",
       "    </tr>\n",
       "    <tr>\n",
       "      <th>33</th>\n",
       "      <td>XGBoost</td>\n",
       "      <td>ADASYN</td>\n",
       "      <td>0.824908</td>\n",
       "      <td>0.524207</td>\n",
       "      <td>0.596958</td>\n",
       "      <td>0.558222</td>\n",
       "      <td>0.806669</td>\n",
       "      <td>{0: 18497, 1: 17388}</td>\n",
       "    </tr>\n",
       "    <tr>\n",
       "      <th>34</th>\n",
       "      <td>XGBoost</td>\n",
       "      <td>SMOTE + Tomek Links</td>\n",
       "      <td>0.822441</td>\n",
       "      <td>0.518425</td>\n",
       "      <td>0.588403</td>\n",
       "      <td>0.551202</td>\n",
       "      <td>0.802291</td>\n",
       "      <td>{0: 18090, 1: 18090}</td>\n",
       "    </tr>\n",
       "    <tr>\n",
       "      <th>35</th>\n",
       "      <td>XGBoost</td>\n",
       "      <td>SMOTE + ENN</td>\n",
       "      <td>0.769773</td>\n",
       "      <td>0.424690</td>\n",
       "      <td>0.683460</td>\n",
       "      <td>0.523862</td>\n",
       "      <td>0.801353</td>\n",
       "      <td>{0: 8976, 1: 14689}</td>\n",
       "    </tr>\n",
       "  </tbody>\n",
       "</table>\n",
       "</div>"
      ],
      "text/plain": [
       "                  Model           Resampling  Accuracy  Precision    Recall  \\\n",
       "0   Logistic Regression             Original  0.823146   0.750000  0.068441   \n",
       "1   Logistic Regression                  RUS  0.778580   0.434755  0.649240   \n",
       "2   Logistic Regression                Tomek  0.824731   0.761468  0.078897   \n",
       "3   Logistic Regression                  ENN  0.824379   0.578797  0.192015   \n",
       "4   Logistic Regression                  CNN  0.835476   0.684375  0.208175   \n",
       "5   Logistic Regression                  OSS  0.824731   0.761468  0.078897   \n",
       "6   Logistic Regression                  NCL  0.830016   0.680498  0.155894   \n",
       "7   Logistic Regression                SMOTE  0.772943   0.429506  0.686312   \n",
       "8   Logistic Regression     Borderline-SMOTE  0.772063   0.427458  0.677757   \n",
       "9   Logistic Regression               ADASYN  0.812929   0.496372  0.650190   \n",
       "10  Logistic Regression  SMOTE + Tomek Links  0.778228   0.437387  0.687262   \n",
       "11  Logistic Regression          SMOTE + ENN  0.548177   0.271381  0.853612   \n",
       "12        Random Forest             Original  0.866655   0.727975  0.447719   \n",
       "13        Random Forest                  RUS  0.790558   0.458660  0.722433   \n",
       "14        Random Forest                Tomek  0.868240   0.717765  0.476236   \n",
       "15        Random Forest                  ENN  0.853268   0.610050  0.576996   \n",
       "16        Random Forest                  CNN  0.834243   0.545380  0.634030   \n",
       "17        Random Forest                  OSS  0.866479   0.716176  0.462928   \n",
       "18        Random Forest                  NCL  0.860314   0.641221  0.558935   \n",
       "19        Random Forest                SMOTE  0.809406   0.489209  0.646388   \n",
       "20        Random Forest     Borderline-SMOTE  0.805003   0.480483  0.643536   \n",
       "21        Random Forest               ADASYN  0.812929   0.496302  0.637833   \n",
       "22        Random Forest  SMOTE + Tomek Links  0.810111   0.490620  0.646388   \n",
       "23        Random Forest          SMOTE + ENN  0.740532   0.392766  0.732890   \n",
       "24              XGBoost             Original  0.861547   0.685237  0.467681   \n",
       "25              XGBoost                  RUS  0.790735   0.458838  0.720532   \n",
       "26              XGBoost                Tomek  0.856791   0.653797  0.482890   \n",
       "27              XGBoost                  ENN  0.842875   0.574349  0.587452   \n",
       "28              XGBoost                  CNN  0.819975   0.511346  0.642586   \n",
       "29              XGBoost                  OSS  0.858024   0.656091  0.491445   \n",
       "30              XGBoost                  NCL  0.848688   0.594146  0.578897   \n",
       "31              XGBoost                SMOTE  0.821032   0.515025  0.586502   \n",
       "32              XGBoost     Borderline-SMOTE  0.821032   0.515000  0.587452   \n",
       "33              XGBoost               ADASYN  0.824908   0.524207  0.596958   \n",
       "34              XGBoost  SMOTE + Tomek Links  0.822441   0.518425  0.588403   \n",
       "35              XGBoost          SMOTE + ENN  0.769773   0.424690  0.683460   \n",
       "\n",
       "    F1-score   ROC-AUC            Train Size  \n",
       "0   0.125436  0.771703   {0: 18497, 1: 4208}  \n",
       "1   0.520778  0.770020    {0: 4208, 1: 4208}  \n",
       "2   0.142980  0.770861   {0: 17142, 1: 4208}  \n",
       "3   0.288365  0.774958   {0: 11271, 1: 4208}  \n",
       "4   0.319242  0.772916    {0: 6186, 1: 4208}  \n",
       "5   0.142980  0.770861   {0: 17142, 1: 4208}  \n",
       "6   0.253674  0.767734   {0: 11407, 1: 4208}  \n",
       "7   0.528357  0.777765  {0: 18497, 1: 18497}  \n",
       "8   0.524265  0.776354  {0: 18497, 1: 18497}  \n",
       "9   0.562963  0.779727  {0: 18497, 1: 17388}  \n",
       "10  0.534566  0.779158  {0: 18090, 1: 18090}  \n",
       "11  0.411832  0.782430   {0: 8976, 1: 14689}  \n",
       "12  0.554444  0.830338   {0: 18497, 1: 4208}  \n",
       "13  0.561093  0.828086    {0: 4208, 1: 4208}  \n",
       "14  0.572571  0.831140   {0: 17142, 1: 4208}  \n",
       "15  0.593063  0.830711   {0: 11271, 1: 4208}  \n",
       "16  0.586374  0.830232    {0: 6186, 1: 4208}  \n",
       "17  0.562356  0.831229   {0: 17142, 1: 4208}  \n",
       "18  0.597257  0.834722   {0: 11407, 1: 4208}  \n",
       "19  0.556921  0.809346  {0: 18497, 1: 18497}  \n",
       "20  0.550183  0.812214  {0: 18497, 1: 18497}  \n",
       "21  0.558236  0.811923  {0: 18497, 1: 17388}  \n",
       "22  0.557834  0.813865  {0: 18090, 1: 18090}  \n",
       "23  0.511443  0.801082   {0: 8976, 1: 14689}  \n",
       "24  0.555932  0.824229   {0: 18497, 1: 4208}  \n",
       "25  0.560651  0.817045    {0: 4208, 1: 4208}  \n",
       "26  0.555495  0.815236   {0: 17142, 1: 4208}  \n",
       "27  0.580827  0.820821   {0: 11271, 1: 4208}  \n",
       "28  0.569503  0.815055    {0: 6186, 1: 4208}  \n",
       "29  0.561957  0.817206   {0: 17142, 1: 4208}  \n",
       "30  0.586423  0.816357   {0: 11407, 1: 4208}  \n",
       "31  0.548444  0.804974  {0: 18497, 1: 18497}  \n",
       "32  0.548845  0.798858  {0: 18497, 1: 18497}  \n",
       "33  0.558222  0.806669  {0: 18497, 1: 17388}  \n",
       "34  0.551202  0.802291  {0: 18090, 1: 18090}  \n",
       "35  0.523862  0.801353   {0: 8976, 1: 14689}  "
      ]
     },
     "execution_count": 103,
     "metadata": {},
     "output_type": "execute_result"
    }
   ],
   "source": [
    "results_df"
   ]
  },
  {
   "cell_type": "code",
   "execution_count": null,
   "metadata": {},
   "outputs": [],
   "source": []
  },
  {
   "cell_type": "code",
   "execution_count": null,
   "metadata": {},
   "outputs": [],
   "source": []
  },
  {
   "cell_type": "code",
   "execution_count": null,
   "metadata": {},
   "outputs": [],
   "source": []
  },
  {
   "cell_type": "code",
   "execution_count": null,
   "metadata": {},
   "outputs": [],
   "source": []
  }
 ],
 "metadata": {
  "kernelspec": {
   "display_name": "Python 3 (ipykernel)",
   "language": "python",
   "name": "python3"
  },
  "language_info": {
   "codemirror_mode": {
    "name": "ipython",
    "version": 3
   },
   "file_extension": ".py",
   "mimetype": "text/x-python",
   "name": "python",
   "nbconvert_exporter": "python",
   "pygments_lexer": "ipython3",
   "version": "3.12.3"
  }
 },
 "nbformat": 4,
 "nbformat_minor": 4
}
